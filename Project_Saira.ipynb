{
  "nbformat": 4,
  "nbformat_minor": 0,
  "metadata": {
    "colab": {
      "provenance": [],
      "toc_visible": true,
      "include_colab_link": true
    },
    "kernelspec": {
      "name": "python3",
      "display_name": "Python 3"
    },
    "language_info": {
      "name": "python"
    }
  },
  "cells": [
    {
      "cell_type": "markdown",
      "metadata": {
        "id": "view-in-github",
        "colab_type": "text"
      },
      "source": [
        "<a href=\"https://colab.research.google.com/github/salehgondal/movie_success_prediction/blob/main/Project_Saira.ipynb\" target=\"_parent\"><img src=\"https://colab.research.google.com/assets/colab-badge.svg\" alt=\"Open In Colab\"/></a>"
      ]
    },
    {
      "cell_type": "markdown",
      "source": [
        "# Data Fetching"
      ],
      "metadata": {
        "id": "oPObjH4Z5Qvf"
      }
    },
    {
      "cell_type": "code",
      "source": [
        "# mount Google Drive\n",
        "from google.colab import drive\n",
        "drive.mount('/content/drive', force_remount=True)"
      ],
      "metadata": {
        "colab": {
          "base_uri": "https://localhost:8080/"
        },
        "id": "w24l4NfO5PfL",
        "outputId": "f0648a54-8253-4168-8dff-bf576f00ac00"
      },
      "execution_count": null,
      "outputs": [
        {
          "output_type": "stream",
          "name": "stdout",
          "text": [
            "Mounted at /content/drive\n"
          ]
        }
      ]
    },
    {
      "cell_type": "code",
      "source": [
        "import os\n",
        "import polars as pl\n",
        "import plotly.express as px\n",
        "pl.Config.set_fmt_float(\"full\") # to get rid of scientific notation while printing stuff\n",
        "pl.Config.set_tbl_width_chars(300)\n"
      ],
      "metadata": {
        "colab": {
          "base_uri": "https://localhost:8080/",
          "height": 187
        },
        "id": "HlGJdUOngiN3",
        "outputId": "14bcbb5a-406a-4809-a756-7231c43f6df6"
      },
      "execution_count": null,
      "outputs": [
        {
          "output_type": "execute_result",
          "data": {
            "text/plain": [
              "polars.config.Config"
            ],
            "text/html": [
              "<div style=\"max-width:800px; border: 1px solid var(--colab-border-color);\"><style>\n",
              "      pre.function-repr-contents {\n",
              "        overflow-x: auto;\n",
              "        padding: 8px 12px;\n",
              "        max-height: 500px;\n",
              "      }\n",
              "\n",
              "      pre.function-repr-contents.function-repr-contents-collapsed {\n",
              "        cursor: pointer;\n",
              "        max-height: 100px;\n",
              "      }\n",
              "    </style>\n",
              "    <pre style=\"white-space: initial; background:\n",
              "         var(--colab-secondary-surface-color); padding: 8px 12px;\n",
              "         border-bottom: 1px solid var(--colab-border-color);\"><b>polars.config.Config</b><br/>def __call__(func)</pre><pre class=\"function-repr-contents function-repr-contents-collapsed\" style=\"\"><a class=\"filepath\" style=\"display:none\" href=\"#\">/usr/local/lib/python3.11/dist-packages/polars/config.py</a>Configure polars; offers options for table formatting and more.\n",
              "\n",
              "Notes\n",
              "-----\n",
              "Can also be used as a context manager OR a function decorator in order to\n",
              "temporarily scope the lifetime of specific options. For example:\n",
              "\n",
              "&gt;&gt;&gt; with pl.Config() as cfg:\n",
              "...     # set verbose for more detailed output within the scope\n",
              "...     cfg.set_verbose(True)  # doctest: +IGNORE_RESULT\n",
              "&gt;&gt;&gt; # scope exit - no longer in verbose mode\n",
              "\n",
              "This can also be written more compactly as:\n",
              "\n",
              "&gt;&gt;&gt; with pl.Config(verbose=True):\n",
              "...     pass\n",
              "\n",
              "(The compact format is available for all `Config` methods that take a single value).\n",
              "\n",
              "Alternatively, you can use as a decorator in order to scope the duration of the\n",
              "selected options to a specific function:\n",
              "\n",
              "&gt;&gt;&gt; @pl.Config(verbose=True)\n",
              "... def test():\n",
              "...     pass</pre>\n",
              "      <script>\n",
              "      if (google.colab.kernel.accessAllowed && google.colab.files && google.colab.files.view) {\n",
              "        for (const element of document.querySelectorAll('.filepath')) {\n",
              "          element.style.display = 'block'\n",
              "          element.onclick = (event) => {\n",
              "            event.preventDefault();\n",
              "            event.stopPropagation();\n",
              "            google.colab.files.view(element.textContent, 145);\n",
              "          };\n",
              "        }\n",
              "      }\n",
              "      for (const element of document.querySelectorAll('.function-repr-contents')) {\n",
              "        element.onclick = (event) => {\n",
              "          event.preventDefault();\n",
              "          event.stopPropagation();\n",
              "          element.classList.toggle('function-repr-contents-collapsed');\n",
              "        };\n",
              "      }\n",
              "      </script>\n",
              "      </div>"
            ]
          },
          "metadata": {},
          "execution_count": 90
        }
      ]
    },
    {
      "cell_type": "code",
      "source": [
        "# make sure you are storing your tmdb data in this directory\n",
        "os.makedirs('/content/drive/MyDrive/project_dva', exist_ok=True)\n",
        "# Change directory\n",
        "os.chdir('/content/drive/MyDrive/project_dva')\n",
        "# Fetching our tmdb data\n",
        "df = pl.read_csv(\"TMDB_movie_dataset_v11.csv\")"
      ],
      "metadata": {
        "id": "K1koPnC9ktWq"
      },
      "execution_count": null,
      "outputs": []
    },
    {
      "cell_type": "code",
      "source": [
        "df_orig = df.clone()"
      ],
      "metadata": {
        "id": "6mpAgSo9KXfW"
      },
      "execution_count": null,
      "outputs": []
    },
    {
      "cell_type": "code",
      "source": [
        "with pl.Config(tbl_cols=-1):\n",
        "  print(df.head(5))\n"
      ],
      "metadata": {
        "colab": {
          "base_uri": "https://localhost:8080/"
        },
        "id": "JNzmUexWlLCW",
        "outputId": "a89be199-5d85-4fdf-f58e-bce4a38baf9a"
      },
      "execution_count": null,
      "outputs": [
        {
          "output_type": "stream",
          "name": "stdout",
          "text": [
            "shape: (5, 24)\n",
            "┌────────┬─────────────┬─────────────┬────────────┬──────────┬─────────────┬────────────┬─────────┬───────┬────────────┬───────────┬────────────┬───────────┬────────────┬────────────┬────────────┬────────────┬────────────┬────────────┬────────────┬────────────┬────────────┬────────────┬────────────┐\n",
            "│ id     ┆ title       ┆ vote_averag ┆ vote_count ┆ status   ┆ release_dat ┆ revenue    ┆ runtime ┆ adult ┆ backdrop_p ┆ budget    ┆ homepage   ┆ imdb_id   ┆ original_l ┆ original_t ┆ overview   ┆ popularity ┆ poster_pat ┆ tagline    ┆ genres     ┆ production ┆ production ┆ spoken_lan ┆ keywords   │\n",
            "│ ---    ┆ ---         ┆ e           ┆ ---        ┆ ---      ┆ e           ┆ ---        ┆ ---     ┆ ---   ┆ ath        ┆ ---       ┆ ---        ┆ ---       ┆ anguage    ┆ itle       ┆ ---        ┆ ---        ┆ h          ┆ ---        ┆ ---        ┆ _companies ┆ _countries ┆ guages     ┆ ---        │\n",
            "│ i64    ┆ str         ┆ ---         ┆ i64        ┆ str      ┆ ---         ┆ i64        ┆ i64     ┆ bool  ┆ ---        ┆ i64       ┆ str        ┆ str       ┆ ---        ┆ ---        ┆ str        ┆ f64        ┆ ---        ┆ str        ┆ str        ┆ ---        ┆ ---        ┆ ---        ┆ str        │\n",
            "│        ┆             ┆ f64         ┆            ┆          ┆ str         ┆            ┆         ┆       ┆ str        ┆           ┆            ┆           ┆ str        ┆ str        ┆            ┆            ┆ str        ┆            ┆            ┆ str        ┆ str        ┆ str        ┆            │\n",
            "╞════════╪═════════════╪═════════════╪════════════╪══════════╪═════════════╪════════════╪═════════╪═══════╪════════════╪═══════════╪════════════╪═══════════╪════════════╪════════════╪════════════╪════════════╪════════════╪════════════╪════════════╪════════════╪════════════╪════════════╪════════════╡\n",
            "│ 27205  ┆ Inception   ┆ 8.364       ┆ 34495      ┆ Released ┆ 2010-07-15  ┆ 825532764  ┆ 148     ┆ false ┆ /8ZTVqvKDQ ┆ 160000000 ┆ https://ww ┆ tt1375666 ┆ en         ┆ Inception  ┆ Cobb, a    ┆ 83.952     ┆ /oYuLEt3zV ┆ Your mind  ┆ Action,    ┆ Legendary  ┆ United     ┆ English,   ┆ rescue,    │\n",
            "│        ┆             ┆             ┆            ┆          ┆             ┆            ┆         ┆       ┆ 8emSGUEMjs ┆           ┆ w.warnerbr ┆           ┆            ┆            ┆ skilled    ┆            ┆ CKq57qu2F8 ┆ is the     ┆ Science    ┆ Pictures,  ┆ Kingdom,   ┆ French,    ┆ mission,   │\n",
            "│        ┆             ┆             ┆            ┆          ┆             ┆            ┆         ┆       ┆ S4yHAwrp.j ┆           ┆ os.com/mov ┆           ┆            ┆            ┆ thief who  ┆            ┆ dT7NIa6f.j ┆ scene of   ┆ Fiction,   ┆ Syncopy,   ┆ United     ┆ Japanese,  ┆ dream,     │\n",
            "│        ┆             ┆             ┆            ┆          ┆             ┆            ┆         ┆       ┆ …          ┆           ┆ …          ┆           ┆            ┆            ┆ comm…      ┆            ┆ …          ┆ the …      ┆ Adven…     ┆ W…         ┆ States …   ┆ Swa…       ┆ airpla…    │\n",
            "│ 157336 ┆ Interstella ┆ 8.417       ┆ 32571      ┆ Released ┆ 2014-11-05  ┆ 701729206  ┆ 169     ┆ false ┆ /pbrkL804c ┆ 165000000 ┆ http://www ┆ tt0816692 ┆ en         ┆ Interstell ┆ The        ┆ 140.241    ┆ /gEU2QniE6 ┆ Mankind    ┆ Adventure, ┆ Legendary  ┆ United     ┆ English    ┆ rescue,    │\n",
            "│        ┆ r           ┆             ┆            ┆          ┆             ┆            ┆         ┆       ┆ 8yAv3zBZR4 ┆           ┆ .interstel ┆           ┆            ┆ ar         ┆ adventures ┆            ┆ E77NI6lCU6 ┆ was born   ┆ Drama,     ┆ Pictures,  ┆ Kingdom,   ┆            ┆ future,    │\n",
            "│        ┆             ┆             ┆            ┆          ┆             ┆            ┆         ┆       ┆ QPEafpAR.j ┆           ┆ larmovie.n ┆           ┆            ┆            ┆ of a group ┆            ┆ MxlNBvIx.j ┆ on Earth.  ┆ Science    ┆ Syncopy,   ┆ United     ┆            ┆ spacecraft │\n",
            "│        ┆             ┆             ┆            ┆          ┆             ┆            ┆         ┆       ┆ …          ┆           ┆ …          ┆           ┆            ┆            ┆ of e…      ┆            ┆ …          ┆ It …       ┆ Fict…      ┆ L…         ┆ States …   ┆            ┆ , ra…      │\n",
            "│ 155    ┆ The Dark    ┆ 8.512       ┆ 30619      ┆ Released ┆ 2008-07-16  ┆ 1004558444 ┆ 152     ┆ false ┆ /nMKdUUepR ┆ 185000000 ┆ https://ww ┆ tt0468569 ┆ en         ┆ The Dark   ┆ Batman     ┆ 130.643    ┆ /qJ2tW6WMU ┆ Welcome to ┆ Drama,     ┆ DC Comics, ┆ United     ┆ English,   ┆ joker,     │\n",
            "│        ┆ Knight      ┆             ┆            ┆          ┆             ┆            ┆         ┆       ┆ 0i5zn0y1T4 ┆           ┆ w.warnerbr ┆           ┆            ┆ Knight     ┆ raises the ┆            ┆ Dux911r6m7 ┆ a world    ┆ Action,    ┆ Legendary  ┆ Kingdom,   ┆ Mandarin   ┆ sadism,    │\n",
            "│        ┆             ┆             ┆            ┆          ┆             ┆            ┆         ┆       ┆ CsSB5chy.j ┆           ┆ os.com/mov ┆           ┆            ┆            ┆ stakes in  ┆            ┆ haRef0WH.j ┆ without    ┆ Crime,     ┆ Pictures,… ┆ United     ┆            ┆ chaos,     │\n",
            "│        ┆             ┆             ┆            ┆          ┆             ┆            ┆         ┆       ┆ …          ┆           ┆ …          ┆           ┆            ┆            ┆ hi…        ┆            ┆ …          ┆ rul…       ┆ Thriller   ┆            ┆ States …   ┆            ┆ secret i…  │\n",
            "│ 19995  ┆ Avatar      ┆ 7.573       ┆ 29815      ┆ Released ┆ 2009-12-15  ┆ 2923706026 ┆ 162     ┆ false ┆ /vL5LR6Wdx ┆ 237000000 ┆ https://ww ┆ tt0499549 ┆ en         ┆ Avatar     ┆ In the     ┆ 79.932     ┆ /kyeqWdyUX ┆ Enter the  ┆ Action,    ┆ Dune Enter ┆ United     ┆ English,   ┆ future,    │\n",
            "│        ┆             ┆             ┆            ┆          ┆             ┆            ┆         ┆       ┆ WPjLPFRLe1 ┆           ┆ w.avatar.c ┆           ┆            ┆            ┆ 22nd       ┆            ┆ W608qlYkRq ┆ world of   ┆ Adventure, ┆ tainment,  ┆ States of  ┆ Spanish    ┆ society,   │\n",
            "│        ┆             ┆             ┆            ┆          ┆             ┆            ┆         ┆       ┆ 33jXWsh5.j ┆           ┆ om/movies/ ┆           ┆            ┆            ┆ century, a ┆            ┆ osgbbJyK.j ┆ Pandora.   ┆ Fantasy,   ┆ Lightstorm ┆ America,   ┆            ┆ culture    │\n",
            "│        ┆             ┆             ┆            ┆          ┆             ┆            ┆         ┆       ┆ …          ┆           ┆ …          ┆           ┆            ┆            ┆ paraple…   ┆            ┆ …          ┆            ┆ Sc…        ┆ …          ┆ Unit…      ┆            ┆ clash…     │\n",
            "│ 24428  ┆ The         ┆ 7.71        ┆ 29166      ┆ Released ┆ 2012-04-25  ┆ 1518815515 ┆ 143     ┆ false ┆ /9BBTo63AN ┆ 220000000 ┆ https://ww ┆ tt0848228 ┆ en         ┆ The        ┆ When an    ┆ 98.082     ┆ /RYMX2wcKC ┆ Some       ┆ Science    ┆ Marvel     ┆ United     ┆ English,   ┆ new york   │\n",
            "│        ┆ Avengers    ┆             ┆            ┆          ┆             ┆            ┆         ┆       ┆ SmhC4e6r62 ┆           ┆ w.marvel.c ┆           ┆            ┆ Avengers   ┆ unexpected ┆            ┆ BAr24UyPD7 ┆ assembly   ┆ Fiction,   ┆ Studios    ┆ States of  ┆ Hindi,     ┆ city,      │\n",
            "│        ┆             ┆             ┆            ┆          ┆             ┆            ┆         ┆       ┆ OJFuK2GL.j ┆           ┆ om/movies/ ┆           ┆            ┆            ┆ enemy      ┆            ┆ xwmjaTn.jp ┆ required.  ┆ Action,    ┆            ┆ America    ┆ Russian    ┆ superhero, │\n",
            "│        ┆             ┆             ┆            ┆          ┆             ┆            ┆         ┆       ┆ …          ┆           ┆ …          ┆           ┆            ┆            ┆ emerg…     ┆            ┆ …          ┆            ┆ Adven…     ┆            ┆            ┆            ┆ shie…      │\n",
            "└────────┴─────────────┴─────────────┴────────────┴──────────┴─────────────┴────────────┴─────────┴───────┴────────────┴───────────┴────────────┴───────────┴────────────┴────────────┴────────────┴────────────┴────────────┴────────────┴────────────┴────────────┴────────────┴────────────┴────────────┘\n"
          ]
        }
      ]
    },
    {
      "cell_type": "code",
      "source": [],
      "metadata": {
        "id": "cGUCoEr46yz1"
      },
      "execution_count": null,
      "outputs": []
    },
    {
      "cell_type": "markdown",
      "source": [
        "# Data Sanity and Cleaning"
      ],
      "metadata": {
        "id": "gbXC3-WV47g_"
      }
    },
    {
      "cell_type": "code",
      "source": [
        "# checking for nulls\n",
        "df.null_count()\n",
        "# No missing data found"
      ],
      "metadata": {
        "colab": {
          "base_uri": "https://localhost:8080/",
          "height": 149
        },
        "id": "gq1lvC3mk7IH",
        "outputId": "3be76064-6581-4997-aae8-a0ed6ccd5580"
      },
      "execution_count": null,
      "outputs": [
        {
          "output_type": "execute_result",
          "data": {
            "text/plain": [
              "shape: (1, 24)\n",
              "┌─────┬───────┬──────────────┬────────────┬───┬──────────────────────┬──────────────────────┬──────────────────┬──────────┐\n",
              "│ id  ┆ title ┆ vote_average ┆ vote_count ┆ … ┆ production_companies ┆ production_countries ┆ spoken_languages ┆ keywords │\n",
              "│ --- ┆ ---   ┆ ---          ┆ ---        ┆   ┆ ---                  ┆ ---                  ┆ ---              ┆ ---      │\n",
              "│ u32 ┆ u32   ┆ u32          ┆ u32        ┆   ┆ u32                  ┆ u32                  ┆ u32              ┆ u32      │\n",
              "╞═════╪═══════╪══════════════╪════════════╪═══╪══════════════════════╪══════════════════════╪══════════════════╪══════════╡\n",
              "│ 0   ┆ 0     ┆ 0            ┆ 0          ┆ … ┆ 0                    ┆ 0                    ┆ 0                ┆ 0        │\n",
              "└─────┴───────┴──────────────┴────────────┴───┴──────────────────────┴──────────────────────┴──────────────────┴──────────┘"
            ],
            "text/html": [
              "<div><style>\n",
              ".dataframe > thead > tr,\n",
              ".dataframe > tbody > tr {\n",
              "  text-align: right;\n",
              "  white-space: pre-wrap;\n",
              "}\n",
              "</style>\n",
              "<small>shape: (1, 24)</small><table border=\"1\" class=\"dataframe\"><thead><tr><th>id</th><th>title</th><th>vote_average</th><th>vote_count</th><th>status</th><th>release_date</th><th>revenue</th><th>runtime</th><th>adult</th><th>backdrop_path</th><th>budget</th><th>homepage</th><th>imdb_id</th><th>original_language</th><th>original_title</th><th>overview</th><th>popularity</th><th>poster_path</th><th>tagline</th><th>genres</th><th>production_companies</th><th>production_countries</th><th>spoken_languages</th><th>keywords</th></tr><tr><td>u32</td><td>u32</td><td>u32</td><td>u32</td><td>u32</td><td>u32</td><td>u32</td><td>u32</td><td>u32</td><td>u32</td><td>u32</td><td>u32</td><td>u32</td><td>u32</td><td>u32</td><td>u32</td><td>u32</td><td>u32</td><td>u32</td><td>u32</td><td>u32</td><td>u32</td><td>u32</td><td>u32</td></tr></thead><tbody><tr><td>0</td><td>0</td><td>0</td><td>0</td><td>0</td><td>0</td><td>0</td><td>0</td><td>0</td><td>0</td><td>0</td><td>0</td><td>0</td><td>0</td><td>0</td><td>0</td><td>0</td><td>0</td><td>0</td><td>0</td><td>0</td><td>0</td><td>0</td><td>0</td></tr></tbody></table></div>"
            ]
          },
          "metadata": {},
          "execution_count": 94
        }
      ]
    },
    {
      "cell_type": "code",
      "source": [
        "# Getting numeric columns for some EDA\n",
        "numeric_columns = [col for col in df.columns if df[col].dtype not in (pl.Utf8, pl.Categorical)]\n",
        "numeric_columns.remove('id') # id not needed\n"
      ],
      "metadata": {
        "id": "DZU2hoTr--sE"
      },
      "execution_count": null,
      "outputs": []
    },
    {
      "cell_type": "code",
      "source": [
        "\n",
        "# Checking 0 count here\n",
        "zero_counts = df.select(numeric_columns).select([\n",
        "    (pl.col(col).eq(0).sum() / pl.count() * 100).round(2).alias(f\"{col}_zero_percentage\")  for col in numeric_columns\n",
        "])\n",
        "\n",
        "print(zero_counts)\n",
        "\n"
      ],
      "metadata": {
        "colab": {
          "base_uri": "https://localhost:8080/"
        },
        "id": "rVHv6Ufw-wwF",
        "outputId": "beec7b8b-a9c8-4a20-c439-2d2ca21908e9"
      },
      "execution_count": null,
      "outputs": [
        {
          "output_type": "stream",
          "name": "stdout",
          "text": [
            "shape: (1, 7)\n",
            "┌──────────────────────────────┬────────────────────────────┬─────────────────────────┬─────────────────────────┬───────────────────────┬────────────────────────┬────────────────────────────┐\n",
            "│ vote_average_zero_percentage ┆ vote_count_zero_percentage ┆ revenue_zero_percentage ┆ runtime_zero_percentage ┆ adult_zero_percentage ┆ budget_zero_percentage ┆ popularity_zero_percentage │\n",
            "│ ---                          ┆ ---                        ┆ ---                     ┆ ---                     ┆ ---                   ┆ ---                    ┆ ---                        │\n",
            "│ f64                          ┆ f64                        ┆ f64                     ┆ f64                     ┆ f64                   ┆ f64                    ┆ f64                        │\n",
            "╞══════════════════════════════╪════════════════════════════╪═════════════════════════╪═════════════════════════╪═══════════════════════╪════════════════════════╪════════════════════════════╡\n",
            "│ 70.53                        ┆ 70.51                      ┆ 98.2                    ┆ 28.33                   ┆ 90.44                 ┆ 94.7                   ┆ 12.91                      │\n",
            "└──────────────────────────────┴────────────────────────────┴─────────────────────────┴─────────────────────────┴───────────────────────┴────────────────────────┴────────────────────────────┘\n"
          ]
        },
        {
          "output_type": "stream",
          "name": "stderr",
          "text": [
            "<ipython-input-96-99e941d8f3da>:3: DeprecationWarning:\n",
            "\n",
            "`pl.count()` is deprecated. Please use `pl.len()` instead.\n",
            "\n"
          ]
        }
      ]
    },
    {
      "cell_type": "markdown",
      "source": [
        "**Too many 0s. removing data that has 0 vote_average**"
      ],
      "metadata": {
        "id": "H5FluvIKKMpg"
      }
    },
    {
      "cell_type": "code",
      "source": [
        "df = df.filter(pl.col(\"vote_average\")>0)\n",
        "df.shape"
      ],
      "metadata": {
        "colab": {
          "base_uri": "https://localhost:8080/"
        },
        "id": "YGRbYcMJKJ5r",
        "outputId": "2310d858-64ec-4205-ea3a-48bf0add30dc"
      },
      "execution_count": null,
      "outputs": [
        {
          "output_type": "execute_result",
          "data": {
            "text/plain": [
              "(352005, 24)"
            ]
          },
          "metadata": {},
          "execution_count": 98
        }
      ]
    },
    {
      "cell_type": "code",
      "source": [
        "# Checking summary of numeric columns\n",
        "\n",
        "desc = df.select(numeric_columns).describe()\n",
        "desc = pl.DataFrame(desc)\n",
        "summary_df_rounded = desc.with_columns([\n",
        "    pl.col(pl.Float64).round(2)  # Round all float64 columns to 2 decimal places\n",
        "])\n",
        "\n",
        "\n",
        "print(summary_df_rounded)\n",
        "\n"
      ],
      "metadata": {
        "colab": {
          "base_uri": "https://localhost:8080/"
        },
        "id": "w8e23MLg2cLL",
        "outputId": "36eee5da-619c-4e57-ca4b-355ea93eae2c"
      },
      "execution_count": null,
      "outputs": [
        {
          "output_type": "stream",
          "name": "stdout",
          "text": [
            "shape: (9, 8)\n",
            "┌────────────┬──────────────┬────────────┬─────────────┬─────────┬────────┬───────────┬────────────┐\n",
            "│ statistic  ┆ vote_average ┆ vote_count ┆ revenue     ┆ runtime ┆ adult  ┆ budget    ┆ popularity │\n",
            "│ ---        ┆ ---          ┆ ---        ┆ ---         ┆ ---     ┆ ---    ┆ ---       ┆ ---        │\n",
            "│ str        ┆ f64          ┆ f64        ┆ f64         ┆ f64     ┆ f64    ┆ f64       ┆ f64        │\n",
            "╞════════════╪══════════════╪════════════╪═════════════╪═════════╪════════╪═══════════╪════════════╡\n",
            "│ count      ┆ 352005       ┆ 352005     ┆ 352005      ┆ 352005  ┆ 352005 ┆ 352005    ┆ 352005     │\n",
            "│ null_count ┆ 0            ┆ 0          ┆ 0           ┆ 0       ┆ 0      ┆ 0         ┆ 0          │\n",
            "│ mean       ┆ 6.11         ┆ 60.94      ┆ 2082805.63  ┆ 70      ┆ 0.06   ┆ 782979.73 ┆ 2.59       │\n",
            "│ std        ┆ 1.97         ┆ 570.11     ┆ 29807651.61 ┆ 65.09   ┆ null   ┆ 7784833.2 ┆ 13.38      │\n",
            "│ min        ┆ 0.5          ┆ 0          ┆ -12         ┆ 0       ┆ 0      ┆ 0         ┆ 0          │\n",
            "│ 25%        ┆ 5            ┆ 1          ┆ 0           ┆ 15      ┆ null   ┆ 0         ┆ 0.6        │\n",
            "│ 50%        ┆ 6            ┆ 2          ┆ 0           ┆ 83      ┆ null   ┆ 0         ┆ 0.99       │\n",
            "│ 75%        ┆ 7.1          ┆ 8          ┆ 0           ┆ 98      ┆ null   ┆ 0         ┆ 2          │\n",
            "│ max        ┆ 10           ┆ 34495      ┆ 3000000000  ┆ 14400   ┆ 1      ┆ 460000000 ┆ 2994.36    │\n",
            "└────────────┴──────────────┴────────────┴─────────────┴─────────┴────────┴───────────┴────────────┘\n"
          ]
        }
      ]
    },
    {
      "cell_type": "code",
      "source": [
        "# Checking empty values in character columns\n",
        "char_columns = [col for col in df.columns if df[col].dtype in (pl.Utf8, pl.Categorical)]\n",
        "\n",
        "\n",
        "empty_counts = df.select(char_columns).select([\n",
        "    (pl.col(col).eq(\"\").sum() / pl.len() * 100).round(2).alias(f\"{col}\")  for col in char_columns\n",
        "])\n",
        "\n",
        "with pl.Config(tbl_cols=-1):\n",
        "    print(empty_counts)"
      ],
      "metadata": {
        "colab": {
          "base_uri": "https://localhost:8080/"
        },
        "id": "ktDcEUkHDcL_",
        "outputId": "8dd81dde-1e9d-480d-c0e1-4d32cb1c7f2d"
      },
      "execution_count": null,
      "outputs": [
        {
          "output_type": "stream",
          "name": "stdout",
          "text": [
            "shape: (1, 16)\n",
            "┌───────┬────────┬──────────────┬───────────────┬──────────┬─────────┬───────────────────┬────────────────┬──────────┬─────────────┬─────────┬────────┬──────────────────────┬──────────────────────┬──────────────────┬──────────┐\n",
            "│ title ┆ status ┆ release_date ┆ backdrop_path ┆ homepage ┆ imdb_id ┆ original_language ┆ original_title ┆ overview ┆ poster_path ┆ tagline ┆ genres ┆ production_companies ┆ production_countries ┆ spoken_languages ┆ keywords │\n",
            "│ ---   ┆ ---    ┆ ---          ┆ ---           ┆ ---      ┆ ---     ┆ ---               ┆ ---            ┆ ---      ┆ ---         ┆ ---     ┆ ---    ┆ ---                  ┆ ---                  ┆ ---              ┆ ---      │\n",
            "│ f64   ┆ f64    ┆ f64          ┆ f64           ┆ f64      ┆ f64     ┆ f64               ┆ f64            ┆ f64      ┆ f64         ┆ f64     ┆ f64    ┆ f64                  ┆ f64                  ┆ f64              ┆ f64      │\n",
            "╞═══════╪════════╪══════════════╪═══════════════╪══════════╪═════════╪═══════════════════╪════════════════╪══════════╪═════════════╪═════════╪════════╪══════════════════════╪══════════════════════╪══════════════════╪══════════╡\n",
            "│ 0     ┆ 0      ┆ 2.12         ┆ 48.24         ┆ 85.94    ┆ 16.94   ┆ 0                 ┆ 0              ┆ 10.99    ┆ 11.74       ┆ 76.32   ┆ 16.98  ┆ 35.23                ┆ 22.53                ┆ 19.14            ┆ 53.29    │\n",
            "└───────┴────────┴──────────────┴───────────────┴──────────┴─────────┴───────────────────┴────────────────┴──────────┴─────────────┴─────────┴────────┴──────────────────────┴──────────────────────┴──────────────────┴──────────┘\n"
          ]
        }
      ]
    },
    {
      "cell_type": "code",
      "source": [],
      "metadata": {
        "id": "z2pj-8VKJSvF"
      },
      "execution_count": null,
      "outputs": []
    },
    {
      "cell_type": "markdown",
      "source": [
        "#EDA"
      ],
      "metadata": {
        "id": "E0fweEW_DuBb"
      }
    },
    {
      "cell_type": "code",
      "source": [
        "# EDA Plots\n",
        "agg_df = df.group_by(\"production_countries\").agg([\n",
        "    pl.col(\"id\").count().alias(\"count\"),\n",
        "    (pl.col(\"vote_average\").eq(0).sum() / pl.count() * 100).alias(\"vote_average_zeros_percentage\")\n",
        "])\n",
        "agg_df=agg_df.sort(\"count\", descending=True)\n",
        "#agg_df = agg_df.filter(pl.col(\"count\")>10000) #pick only rows with count over 1k\n",
        "agg_df = agg_df.head(10)\n",
        "pandas_df = agg_df.to_pandas()\n",
        "\n",
        "# Create a bar plot using Plotly\n",
        "fig = px.bar(pandas_df, x=\"production_countries\", y=\"count\", title=\"Count by production_countries\")\n",
        "fig.show()\n",
        "\n",
        "fig2 = px.bar(pandas_df, x=\"production_countries\", y=\"vote_average_zeros_percentage\", title=\"vote_average zeros percentage by production_countries\")\n",
        "fig2.show()\n",
        "\n"
      ],
      "metadata": {
        "colab": {
          "base_uri": "https://localhost:8080/",
          "height": 1000
        },
        "id": "e_V1JkAp-mpV",
        "outputId": "10ab5efb-638c-49fa-8a0d-69822cd07d31"
      },
      "execution_count": null,
      "outputs": [
        {
          "output_type": "stream",
          "name": "stderr",
          "text": [
            "<ipython-input-102-22c65c7826bf>:4: DeprecationWarning:\n",
            "\n",
            "`pl.count()` is deprecated. Please use `pl.len()` instead.\n",
            "\n"
          ]
        },
        {
          "output_type": "display_data",
          "data": {
            "text/html": [
              "<html>\n",
              "<head><meta charset=\"utf-8\" /></head>\n",
              "<body>\n",
              "    <div>            <script src=\"https://cdnjs.cloudflare.com/ajax/libs/mathjax/2.7.5/MathJax.js?config=TeX-AMS-MML_SVG\"></script><script type=\"text/javascript\">if (window.MathJax && window.MathJax.Hub && window.MathJax.Hub.Config) {window.MathJax.Hub.Config({SVG: {font: \"STIX-Web\"}});}</script>                <script type=\"text/javascript\">window.PlotlyConfig = {MathJaxConfig: 'local'};</script>\n",
              "        <script charset=\"utf-8\" src=\"https://cdn.plot.ly/plotly-2.35.2.min.js\"></script>                <div id=\"cc7a93fe-1a65-45b7-8b5a-7e51e860a7db\" class=\"plotly-graph-div\" style=\"height:525px; width:100%;\"></div>            <script type=\"text/javascript\">                                    window.PLOTLYENV=window.PLOTLYENV || {};                                    if (document.getElementById(\"cc7a93fe-1a65-45b7-8b5a-7e51e860a7db\")) {                    Plotly.newPlot(                        \"cc7a93fe-1a65-45b7-8b5a-7e51e860a7db\",                        [{\"alignmentgroup\":\"True\",\"hovertemplate\":\"production_countries=%{x}\\u003cbr\\u003ecount=%{y}\\u003cextra\\u003e\\u003c\\u002fextra\\u003e\",\"legendgroup\":\"\",\"marker\":{\"color\":\"#636efa\",\"pattern\":{\"shape\":\"\"}},\"name\":\"\",\"offsetgroup\":\"\",\"orientation\":\"v\",\"showlegend\":false,\"textposition\":\"auto\",\"x\":[\"United States of America\",\"\",\"France\",\"United Kingdom\",\"Japan\",\"Germany\",\"India\",\"Canada\",\"Mexico\",\"Italy\"],\"xaxis\":\"x\",\"y\":[84550,79295,16031,14038,12961,10594,9600,7348,7171,7104],\"yaxis\":\"y\",\"type\":\"bar\"}],                        {\"template\":{\"data\":{\"histogram2dcontour\":[{\"type\":\"histogram2dcontour\",\"colorbar\":{\"outlinewidth\":0,\"ticks\":\"\"},\"colorscale\":[[0.0,\"#0d0887\"],[0.1111111111111111,\"#46039f\"],[0.2222222222222222,\"#7201a8\"],[0.3333333333333333,\"#9c179e\"],[0.4444444444444444,\"#bd3786\"],[0.5555555555555556,\"#d8576b\"],[0.6666666666666666,\"#ed7953\"],[0.7777777777777778,\"#fb9f3a\"],[0.8888888888888888,\"#fdca26\"],[1.0,\"#f0f921\"]]}],\"choropleth\":[{\"type\":\"choropleth\",\"colorbar\":{\"outlinewidth\":0,\"ticks\":\"\"}}],\"histogram2d\":[{\"type\":\"histogram2d\",\"colorbar\":{\"outlinewidth\":0,\"ticks\":\"\"},\"colorscale\":[[0.0,\"#0d0887\"],[0.1111111111111111,\"#46039f\"],[0.2222222222222222,\"#7201a8\"],[0.3333333333333333,\"#9c179e\"],[0.4444444444444444,\"#bd3786\"],[0.5555555555555556,\"#d8576b\"],[0.6666666666666666,\"#ed7953\"],[0.7777777777777778,\"#fb9f3a\"],[0.8888888888888888,\"#fdca26\"],[1.0,\"#f0f921\"]]}],\"heatmap\":[{\"type\":\"heatmap\",\"colorbar\":{\"outlinewidth\":0,\"ticks\":\"\"},\"colorscale\":[[0.0,\"#0d0887\"],[0.1111111111111111,\"#46039f\"],[0.2222222222222222,\"#7201a8\"],[0.3333333333333333,\"#9c179e\"],[0.4444444444444444,\"#bd3786\"],[0.5555555555555556,\"#d8576b\"],[0.6666666666666666,\"#ed7953\"],[0.7777777777777778,\"#fb9f3a\"],[0.8888888888888888,\"#fdca26\"],[1.0,\"#f0f921\"]]}],\"heatmapgl\":[{\"type\":\"heatmapgl\",\"colorbar\":{\"outlinewidth\":0,\"ticks\":\"\"},\"colorscale\":[[0.0,\"#0d0887\"],[0.1111111111111111,\"#46039f\"],[0.2222222222222222,\"#7201a8\"],[0.3333333333333333,\"#9c179e\"],[0.4444444444444444,\"#bd3786\"],[0.5555555555555556,\"#d8576b\"],[0.6666666666666666,\"#ed7953\"],[0.7777777777777778,\"#fb9f3a\"],[0.8888888888888888,\"#fdca26\"],[1.0,\"#f0f921\"]]}],\"contourcarpet\":[{\"type\":\"contourcarpet\",\"colorbar\":{\"outlinewidth\":0,\"ticks\":\"\"}}],\"contour\":[{\"type\":\"contour\",\"colorbar\":{\"outlinewidth\":0,\"ticks\":\"\"},\"colorscale\":[[0.0,\"#0d0887\"],[0.1111111111111111,\"#46039f\"],[0.2222222222222222,\"#7201a8\"],[0.3333333333333333,\"#9c179e\"],[0.4444444444444444,\"#bd3786\"],[0.5555555555555556,\"#d8576b\"],[0.6666666666666666,\"#ed7953\"],[0.7777777777777778,\"#fb9f3a\"],[0.8888888888888888,\"#fdca26\"],[1.0,\"#f0f921\"]]}],\"surface\":[{\"type\":\"surface\",\"colorbar\":{\"outlinewidth\":0,\"ticks\":\"\"},\"colorscale\":[[0.0,\"#0d0887\"],[0.1111111111111111,\"#46039f\"],[0.2222222222222222,\"#7201a8\"],[0.3333333333333333,\"#9c179e\"],[0.4444444444444444,\"#bd3786\"],[0.5555555555555556,\"#d8576b\"],[0.6666666666666666,\"#ed7953\"],[0.7777777777777778,\"#fb9f3a\"],[0.8888888888888888,\"#fdca26\"],[1.0,\"#f0f921\"]]}],\"mesh3d\":[{\"type\":\"mesh3d\",\"colorbar\":{\"outlinewidth\":0,\"ticks\":\"\"}}],\"scatter\":[{\"fillpattern\":{\"fillmode\":\"overlay\",\"size\":10,\"solidity\":0.2},\"type\":\"scatter\"}],\"parcoords\":[{\"type\":\"parcoords\",\"line\":{\"colorbar\":{\"outlinewidth\":0,\"ticks\":\"\"}}}],\"scatterpolargl\":[{\"type\":\"scatterpolargl\",\"marker\":{\"colorbar\":{\"outlinewidth\":0,\"ticks\":\"\"}}}],\"bar\":[{\"error_x\":{\"color\":\"#2a3f5f\"},\"error_y\":{\"color\":\"#2a3f5f\"},\"marker\":{\"line\":{\"color\":\"#E5ECF6\",\"width\":0.5},\"pattern\":{\"fillmode\":\"overlay\",\"size\":10,\"solidity\":0.2}},\"type\":\"bar\"}],\"scattergeo\":[{\"type\":\"scattergeo\",\"marker\":{\"colorbar\":{\"outlinewidth\":0,\"ticks\":\"\"}}}],\"scatterpolar\":[{\"type\":\"scatterpolar\",\"marker\":{\"colorbar\":{\"outlinewidth\":0,\"ticks\":\"\"}}}],\"histogram\":[{\"marker\":{\"pattern\":{\"fillmode\":\"overlay\",\"size\":10,\"solidity\":0.2}},\"type\":\"histogram\"}],\"scattergl\":[{\"type\":\"scattergl\",\"marker\":{\"colorbar\":{\"outlinewidth\":0,\"ticks\":\"\"}}}],\"scatter3d\":[{\"type\":\"scatter3d\",\"line\":{\"colorbar\":{\"outlinewidth\":0,\"ticks\":\"\"}},\"marker\":{\"colorbar\":{\"outlinewidth\":0,\"ticks\":\"\"}}}],\"scattermapbox\":[{\"type\":\"scattermapbox\",\"marker\":{\"colorbar\":{\"outlinewidth\":0,\"ticks\":\"\"}}}],\"scatterternary\":[{\"type\":\"scatterternary\",\"marker\":{\"colorbar\":{\"outlinewidth\":0,\"ticks\":\"\"}}}],\"scattercarpet\":[{\"type\":\"scattercarpet\",\"marker\":{\"colorbar\":{\"outlinewidth\":0,\"ticks\":\"\"}}}],\"carpet\":[{\"aaxis\":{\"endlinecolor\":\"#2a3f5f\",\"gridcolor\":\"white\",\"linecolor\":\"white\",\"minorgridcolor\":\"white\",\"startlinecolor\":\"#2a3f5f\"},\"baxis\":{\"endlinecolor\":\"#2a3f5f\",\"gridcolor\":\"white\",\"linecolor\":\"white\",\"minorgridcolor\":\"white\",\"startlinecolor\":\"#2a3f5f\"},\"type\":\"carpet\"}],\"table\":[{\"cells\":{\"fill\":{\"color\":\"#EBF0F8\"},\"line\":{\"color\":\"white\"}},\"header\":{\"fill\":{\"color\":\"#C8D4E3\"},\"line\":{\"color\":\"white\"}},\"type\":\"table\"}],\"barpolar\":[{\"marker\":{\"line\":{\"color\":\"#E5ECF6\",\"width\":0.5},\"pattern\":{\"fillmode\":\"overlay\",\"size\":10,\"solidity\":0.2}},\"type\":\"barpolar\"}],\"pie\":[{\"automargin\":true,\"type\":\"pie\"}]},\"layout\":{\"autotypenumbers\":\"strict\",\"colorway\":[\"#636efa\",\"#EF553B\",\"#00cc96\",\"#ab63fa\",\"#FFA15A\",\"#19d3f3\",\"#FF6692\",\"#B6E880\",\"#FF97FF\",\"#FECB52\"],\"font\":{\"color\":\"#2a3f5f\"},\"hovermode\":\"closest\",\"hoverlabel\":{\"align\":\"left\"},\"paper_bgcolor\":\"white\",\"plot_bgcolor\":\"#E5ECF6\",\"polar\":{\"bgcolor\":\"#E5ECF6\",\"angularaxis\":{\"gridcolor\":\"white\",\"linecolor\":\"white\",\"ticks\":\"\"},\"radialaxis\":{\"gridcolor\":\"white\",\"linecolor\":\"white\",\"ticks\":\"\"}},\"ternary\":{\"bgcolor\":\"#E5ECF6\",\"aaxis\":{\"gridcolor\":\"white\",\"linecolor\":\"white\",\"ticks\":\"\"},\"baxis\":{\"gridcolor\":\"white\",\"linecolor\":\"white\",\"ticks\":\"\"},\"caxis\":{\"gridcolor\":\"white\",\"linecolor\":\"white\",\"ticks\":\"\"}},\"coloraxis\":{\"colorbar\":{\"outlinewidth\":0,\"ticks\":\"\"}},\"colorscale\":{\"sequential\":[[0.0,\"#0d0887\"],[0.1111111111111111,\"#46039f\"],[0.2222222222222222,\"#7201a8\"],[0.3333333333333333,\"#9c179e\"],[0.4444444444444444,\"#bd3786\"],[0.5555555555555556,\"#d8576b\"],[0.6666666666666666,\"#ed7953\"],[0.7777777777777778,\"#fb9f3a\"],[0.8888888888888888,\"#fdca26\"],[1.0,\"#f0f921\"]],\"sequentialminus\":[[0.0,\"#0d0887\"],[0.1111111111111111,\"#46039f\"],[0.2222222222222222,\"#7201a8\"],[0.3333333333333333,\"#9c179e\"],[0.4444444444444444,\"#bd3786\"],[0.5555555555555556,\"#d8576b\"],[0.6666666666666666,\"#ed7953\"],[0.7777777777777778,\"#fb9f3a\"],[0.8888888888888888,\"#fdca26\"],[1.0,\"#f0f921\"]],\"diverging\":[[0,\"#8e0152\"],[0.1,\"#c51b7d\"],[0.2,\"#de77ae\"],[0.3,\"#f1b6da\"],[0.4,\"#fde0ef\"],[0.5,\"#f7f7f7\"],[0.6,\"#e6f5d0\"],[0.7,\"#b8e186\"],[0.8,\"#7fbc41\"],[0.9,\"#4d9221\"],[1,\"#276419\"]]},\"xaxis\":{\"gridcolor\":\"white\",\"linecolor\":\"white\",\"ticks\":\"\",\"title\":{\"standoff\":15},\"zerolinecolor\":\"white\",\"automargin\":true,\"zerolinewidth\":2},\"yaxis\":{\"gridcolor\":\"white\",\"linecolor\":\"white\",\"ticks\":\"\",\"title\":{\"standoff\":15},\"zerolinecolor\":\"white\",\"automargin\":true,\"zerolinewidth\":2},\"scene\":{\"xaxis\":{\"backgroundcolor\":\"#E5ECF6\",\"gridcolor\":\"white\",\"linecolor\":\"white\",\"showbackground\":true,\"ticks\":\"\",\"zerolinecolor\":\"white\",\"gridwidth\":2},\"yaxis\":{\"backgroundcolor\":\"#E5ECF6\",\"gridcolor\":\"white\",\"linecolor\":\"white\",\"showbackground\":true,\"ticks\":\"\",\"zerolinecolor\":\"white\",\"gridwidth\":2},\"zaxis\":{\"backgroundcolor\":\"#E5ECF6\",\"gridcolor\":\"white\",\"linecolor\":\"white\",\"showbackground\":true,\"ticks\":\"\",\"zerolinecolor\":\"white\",\"gridwidth\":2}},\"shapedefaults\":{\"line\":{\"color\":\"#2a3f5f\"}},\"annotationdefaults\":{\"arrowcolor\":\"#2a3f5f\",\"arrowhead\":0,\"arrowwidth\":1},\"geo\":{\"bgcolor\":\"white\",\"landcolor\":\"#E5ECF6\",\"subunitcolor\":\"white\",\"showland\":true,\"showlakes\":true,\"lakecolor\":\"white\"},\"title\":{\"x\":0.05},\"mapbox\":{\"style\":\"light\"}}},\"xaxis\":{\"anchor\":\"y\",\"domain\":[0.0,1.0],\"title\":{\"text\":\"production_countries\"}},\"yaxis\":{\"anchor\":\"x\",\"domain\":[0.0,1.0],\"title\":{\"text\":\"count\"}},\"legend\":{\"tracegroupgap\":0},\"title\":{\"text\":\"Count by production_countries\"},\"barmode\":\"relative\"},                        {\"responsive\": true}                    ).then(function(){\n",
              "                            \n",
              "var gd = document.getElementById('cc7a93fe-1a65-45b7-8b5a-7e51e860a7db');\n",
              "var x = new MutationObserver(function (mutations, observer) {{\n",
              "        var display = window.getComputedStyle(gd).display;\n",
              "        if (!display || display === 'none') {{\n",
              "            console.log([gd, 'removed!']);\n",
              "            Plotly.purge(gd);\n",
              "            observer.disconnect();\n",
              "        }}\n",
              "}});\n",
              "\n",
              "// Listen for the removal of the full notebook cells\n",
              "var notebookContainer = gd.closest('#notebook-container');\n",
              "if (notebookContainer) {{\n",
              "    x.observe(notebookContainer, {childList: true});\n",
              "}}\n",
              "\n",
              "// Listen for the clearing of the current output cell\n",
              "var outputEl = gd.closest('.output');\n",
              "if (outputEl) {{\n",
              "    x.observe(outputEl, {childList: true});\n",
              "}}\n",
              "\n",
              "                        })                };                            </script>        </div>\n",
              "</body>\n",
              "</html>"
            ]
          },
          "metadata": {}
        },
        {
          "output_type": "display_data",
          "data": {
            "text/html": [
              "<html>\n",
              "<head><meta charset=\"utf-8\" /></head>\n",
              "<body>\n",
              "    <div>            <script src=\"https://cdnjs.cloudflare.com/ajax/libs/mathjax/2.7.5/MathJax.js?config=TeX-AMS-MML_SVG\"></script><script type=\"text/javascript\">if (window.MathJax && window.MathJax.Hub && window.MathJax.Hub.Config) {window.MathJax.Hub.Config({SVG: {font: \"STIX-Web\"}});}</script>                <script type=\"text/javascript\">window.PlotlyConfig = {MathJaxConfig: 'local'};</script>\n",
              "        <script charset=\"utf-8\" src=\"https://cdn.plot.ly/plotly-2.35.2.min.js\"></script>                <div id=\"90064aed-f25d-437a-ba13-cea138ce0cca\" class=\"plotly-graph-div\" style=\"height:525px; width:100%;\"></div>            <script type=\"text/javascript\">                                    window.PLOTLYENV=window.PLOTLYENV || {};                                    if (document.getElementById(\"90064aed-f25d-437a-ba13-cea138ce0cca\")) {                    Plotly.newPlot(                        \"90064aed-f25d-437a-ba13-cea138ce0cca\",                        [{\"alignmentgroup\":\"True\",\"hovertemplate\":\"production_countries=%{x}\\u003cbr\\u003evote_average_zeros_percentage=%{y}\\u003cextra\\u003e\\u003c\\u002fextra\\u003e\",\"legendgroup\":\"\",\"marker\":{\"color\":\"#636efa\",\"pattern\":{\"shape\":\"\"}},\"name\":\"\",\"offsetgroup\":\"\",\"orientation\":\"v\",\"showlegend\":false,\"textposition\":\"auto\",\"x\":[\"United States of America\",\"\",\"France\",\"United Kingdom\",\"Japan\",\"Germany\",\"India\",\"Canada\",\"Mexico\",\"Italy\"],\"xaxis\":\"x\",\"y\":[0.0,0.0,0.0,0.0,0.0,0.0,0.0,0.0,0.0,0.0],\"yaxis\":\"y\",\"type\":\"bar\"}],                        {\"template\":{\"data\":{\"histogram2dcontour\":[{\"type\":\"histogram2dcontour\",\"colorbar\":{\"outlinewidth\":0,\"ticks\":\"\"},\"colorscale\":[[0.0,\"#0d0887\"],[0.1111111111111111,\"#46039f\"],[0.2222222222222222,\"#7201a8\"],[0.3333333333333333,\"#9c179e\"],[0.4444444444444444,\"#bd3786\"],[0.5555555555555556,\"#d8576b\"],[0.6666666666666666,\"#ed7953\"],[0.7777777777777778,\"#fb9f3a\"],[0.8888888888888888,\"#fdca26\"],[1.0,\"#f0f921\"]]}],\"choropleth\":[{\"type\":\"choropleth\",\"colorbar\":{\"outlinewidth\":0,\"ticks\":\"\"}}],\"histogram2d\":[{\"type\":\"histogram2d\",\"colorbar\":{\"outlinewidth\":0,\"ticks\":\"\"},\"colorscale\":[[0.0,\"#0d0887\"],[0.1111111111111111,\"#46039f\"],[0.2222222222222222,\"#7201a8\"],[0.3333333333333333,\"#9c179e\"],[0.4444444444444444,\"#bd3786\"],[0.5555555555555556,\"#d8576b\"],[0.6666666666666666,\"#ed7953\"],[0.7777777777777778,\"#fb9f3a\"],[0.8888888888888888,\"#fdca26\"],[1.0,\"#f0f921\"]]}],\"heatmap\":[{\"type\":\"heatmap\",\"colorbar\":{\"outlinewidth\":0,\"ticks\":\"\"},\"colorscale\":[[0.0,\"#0d0887\"],[0.1111111111111111,\"#46039f\"],[0.2222222222222222,\"#7201a8\"],[0.3333333333333333,\"#9c179e\"],[0.4444444444444444,\"#bd3786\"],[0.5555555555555556,\"#d8576b\"],[0.6666666666666666,\"#ed7953\"],[0.7777777777777778,\"#fb9f3a\"],[0.8888888888888888,\"#fdca26\"],[1.0,\"#f0f921\"]]}],\"heatmapgl\":[{\"type\":\"heatmapgl\",\"colorbar\":{\"outlinewidth\":0,\"ticks\":\"\"},\"colorscale\":[[0.0,\"#0d0887\"],[0.1111111111111111,\"#46039f\"],[0.2222222222222222,\"#7201a8\"],[0.3333333333333333,\"#9c179e\"],[0.4444444444444444,\"#bd3786\"],[0.5555555555555556,\"#d8576b\"],[0.6666666666666666,\"#ed7953\"],[0.7777777777777778,\"#fb9f3a\"],[0.8888888888888888,\"#fdca26\"],[1.0,\"#f0f921\"]]}],\"contourcarpet\":[{\"type\":\"contourcarpet\",\"colorbar\":{\"outlinewidth\":0,\"ticks\":\"\"}}],\"contour\":[{\"type\":\"contour\",\"colorbar\":{\"outlinewidth\":0,\"ticks\":\"\"},\"colorscale\":[[0.0,\"#0d0887\"],[0.1111111111111111,\"#46039f\"],[0.2222222222222222,\"#7201a8\"],[0.3333333333333333,\"#9c179e\"],[0.4444444444444444,\"#bd3786\"],[0.5555555555555556,\"#d8576b\"],[0.6666666666666666,\"#ed7953\"],[0.7777777777777778,\"#fb9f3a\"],[0.8888888888888888,\"#fdca26\"],[1.0,\"#f0f921\"]]}],\"surface\":[{\"type\":\"surface\",\"colorbar\":{\"outlinewidth\":0,\"ticks\":\"\"},\"colorscale\":[[0.0,\"#0d0887\"],[0.1111111111111111,\"#46039f\"],[0.2222222222222222,\"#7201a8\"],[0.3333333333333333,\"#9c179e\"],[0.4444444444444444,\"#bd3786\"],[0.5555555555555556,\"#d8576b\"],[0.6666666666666666,\"#ed7953\"],[0.7777777777777778,\"#fb9f3a\"],[0.8888888888888888,\"#fdca26\"],[1.0,\"#f0f921\"]]}],\"mesh3d\":[{\"type\":\"mesh3d\",\"colorbar\":{\"outlinewidth\":0,\"ticks\":\"\"}}],\"scatter\":[{\"fillpattern\":{\"fillmode\":\"overlay\",\"size\":10,\"solidity\":0.2},\"type\":\"scatter\"}],\"parcoords\":[{\"type\":\"parcoords\",\"line\":{\"colorbar\":{\"outlinewidth\":0,\"ticks\":\"\"}}}],\"scatterpolargl\":[{\"type\":\"scatterpolargl\",\"marker\":{\"colorbar\":{\"outlinewidth\":0,\"ticks\":\"\"}}}],\"bar\":[{\"error_x\":{\"color\":\"#2a3f5f\"},\"error_y\":{\"color\":\"#2a3f5f\"},\"marker\":{\"line\":{\"color\":\"#E5ECF6\",\"width\":0.5},\"pattern\":{\"fillmode\":\"overlay\",\"size\":10,\"solidity\":0.2}},\"type\":\"bar\"}],\"scattergeo\":[{\"type\":\"scattergeo\",\"marker\":{\"colorbar\":{\"outlinewidth\":0,\"ticks\":\"\"}}}],\"scatterpolar\":[{\"type\":\"scatterpolar\",\"marker\":{\"colorbar\":{\"outlinewidth\":0,\"ticks\":\"\"}}}],\"histogram\":[{\"marker\":{\"pattern\":{\"fillmode\":\"overlay\",\"size\":10,\"solidity\":0.2}},\"type\":\"histogram\"}],\"scattergl\":[{\"type\":\"scattergl\",\"marker\":{\"colorbar\":{\"outlinewidth\":0,\"ticks\":\"\"}}}],\"scatter3d\":[{\"type\":\"scatter3d\",\"line\":{\"colorbar\":{\"outlinewidth\":0,\"ticks\":\"\"}},\"marker\":{\"colorbar\":{\"outlinewidth\":0,\"ticks\":\"\"}}}],\"scattermapbox\":[{\"type\":\"scattermapbox\",\"marker\":{\"colorbar\":{\"outlinewidth\":0,\"ticks\":\"\"}}}],\"scatterternary\":[{\"type\":\"scatterternary\",\"marker\":{\"colorbar\":{\"outlinewidth\":0,\"ticks\":\"\"}}}],\"scattercarpet\":[{\"type\":\"scattercarpet\",\"marker\":{\"colorbar\":{\"outlinewidth\":0,\"ticks\":\"\"}}}],\"carpet\":[{\"aaxis\":{\"endlinecolor\":\"#2a3f5f\",\"gridcolor\":\"white\",\"linecolor\":\"white\",\"minorgridcolor\":\"white\",\"startlinecolor\":\"#2a3f5f\"},\"baxis\":{\"endlinecolor\":\"#2a3f5f\",\"gridcolor\":\"white\",\"linecolor\":\"white\",\"minorgridcolor\":\"white\",\"startlinecolor\":\"#2a3f5f\"},\"type\":\"carpet\"}],\"table\":[{\"cells\":{\"fill\":{\"color\":\"#EBF0F8\"},\"line\":{\"color\":\"white\"}},\"header\":{\"fill\":{\"color\":\"#C8D4E3\"},\"line\":{\"color\":\"white\"}},\"type\":\"table\"}],\"barpolar\":[{\"marker\":{\"line\":{\"color\":\"#E5ECF6\",\"width\":0.5},\"pattern\":{\"fillmode\":\"overlay\",\"size\":10,\"solidity\":0.2}},\"type\":\"barpolar\"}],\"pie\":[{\"automargin\":true,\"type\":\"pie\"}]},\"layout\":{\"autotypenumbers\":\"strict\",\"colorway\":[\"#636efa\",\"#EF553B\",\"#00cc96\",\"#ab63fa\",\"#FFA15A\",\"#19d3f3\",\"#FF6692\",\"#B6E880\",\"#FF97FF\",\"#FECB52\"],\"font\":{\"color\":\"#2a3f5f\"},\"hovermode\":\"closest\",\"hoverlabel\":{\"align\":\"left\"},\"paper_bgcolor\":\"white\",\"plot_bgcolor\":\"#E5ECF6\",\"polar\":{\"bgcolor\":\"#E5ECF6\",\"angularaxis\":{\"gridcolor\":\"white\",\"linecolor\":\"white\",\"ticks\":\"\"},\"radialaxis\":{\"gridcolor\":\"white\",\"linecolor\":\"white\",\"ticks\":\"\"}},\"ternary\":{\"bgcolor\":\"#E5ECF6\",\"aaxis\":{\"gridcolor\":\"white\",\"linecolor\":\"white\",\"ticks\":\"\"},\"baxis\":{\"gridcolor\":\"white\",\"linecolor\":\"white\",\"ticks\":\"\"},\"caxis\":{\"gridcolor\":\"white\",\"linecolor\":\"white\",\"ticks\":\"\"}},\"coloraxis\":{\"colorbar\":{\"outlinewidth\":0,\"ticks\":\"\"}},\"colorscale\":{\"sequential\":[[0.0,\"#0d0887\"],[0.1111111111111111,\"#46039f\"],[0.2222222222222222,\"#7201a8\"],[0.3333333333333333,\"#9c179e\"],[0.4444444444444444,\"#bd3786\"],[0.5555555555555556,\"#d8576b\"],[0.6666666666666666,\"#ed7953\"],[0.7777777777777778,\"#fb9f3a\"],[0.8888888888888888,\"#fdca26\"],[1.0,\"#f0f921\"]],\"sequentialminus\":[[0.0,\"#0d0887\"],[0.1111111111111111,\"#46039f\"],[0.2222222222222222,\"#7201a8\"],[0.3333333333333333,\"#9c179e\"],[0.4444444444444444,\"#bd3786\"],[0.5555555555555556,\"#d8576b\"],[0.6666666666666666,\"#ed7953\"],[0.7777777777777778,\"#fb9f3a\"],[0.8888888888888888,\"#fdca26\"],[1.0,\"#f0f921\"]],\"diverging\":[[0,\"#8e0152\"],[0.1,\"#c51b7d\"],[0.2,\"#de77ae\"],[0.3,\"#f1b6da\"],[0.4,\"#fde0ef\"],[0.5,\"#f7f7f7\"],[0.6,\"#e6f5d0\"],[0.7,\"#b8e186\"],[0.8,\"#7fbc41\"],[0.9,\"#4d9221\"],[1,\"#276419\"]]},\"xaxis\":{\"gridcolor\":\"white\",\"linecolor\":\"white\",\"ticks\":\"\",\"title\":{\"standoff\":15},\"zerolinecolor\":\"white\",\"automargin\":true,\"zerolinewidth\":2},\"yaxis\":{\"gridcolor\":\"white\",\"linecolor\":\"white\",\"ticks\":\"\",\"title\":{\"standoff\":15},\"zerolinecolor\":\"white\",\"automargin\":true,\"zerolinewidth\":2},\"scene\":{\"xaxis\":{\"backgroundcolor\":\"#E5ECF6\",\"gridcolor\":\"white\",\"linecolor\":\"white\",\"showbackground\":true,\"ticks\":\"\",\"zerolinecolor\":\"white\",\"gridwidth\":2},\"yaxis\":{\"backgroundcolor\":\"#E5ECF6\",\"gridcolor\":\"white\",\"linecolor\":\"white\",\"showbackground\":true,\"ticks\":\"\",\"zerolinecolor\":\"white\",\"gridwidth\":2},\"zaxis\":{\"backgroundcolor\":\"#E5ECF6\",\"gridcolor\":\"white\",\"linecolor\":\"white\",\"showbackground\":true,\"ticks\":\"\",\"zerolinecolor\":\"white\",\"gridwidth\":2}},\"shapedefaults\":{\"line\":{\"color\":\"#2a3f5f\"}},\"annotationdefaults\":{\"arrowcolor\":\"#2a3f5f\",\"arrowhead\":0,\"arrowwidth\":1},\"geo\":{\"bgcolor\":\"white\",\"landcolor\":\"#E5ECF6\",\"subunitcolor\":\"white\",\"showland\":true,\"showlakes\":true,\"lakecolor\":\"white\"},\"title\":{\"x\":0.05},\"mapbox\":{\"style\":\"light\"}}},\"xaxis\":{\"anchor\":\"y\",\"domain\":[0.0,1.0],\"title\":{\"text\":\"production_countries\"}},\"yaxis\":{\"anchor\":\"x\",\"domain\":[0.0,1.0],\"title\":{\"text\":\"vote_average_zeros_percentage\"}},\"legend\":{\"tracegroupgap\":0},\"title\":{\"text\":\"vote_average zeros percentage by production_countries\"},\"barmode\":\"relative\"},                        {\"responsive\": true}                    ).then(function(){\n",
              "                            \n",
              "var gd = document.getElementById('90064aed-f25d-437a-ba13-cea138ce0cca');\n",
              "var x = new MutationObserver(function (mutations, observer) {{\n",
              "        var display = window.getComputedStyle(gd).display;\n",
              "        if (!display || display === 'none') {{\n",
              "            console.log([gd, 'removed!']);\n",
              "            Plotly.purge(gd);\n",
              "            observer.disconnect();\n",
              "        }}\n",
              "}});\n",
              "\n",
              "// Listen for the removal of the full notebook cells\n",
              "var notebookContainer = gd.closest('#notebook-container');\n",
              "if (notebookContainer) {{\n",
              "    x.observe(notebookContainer, {childList: true});\n",
              "}}\n",
              "\n",
              "// Listen for the clearing of the current output cell\n",
              "var outputEl = gd.closest('.output');\n",
              "if (outputEl) {{\n",
              "    x.observe(outputEl, {childList: true});\n",
              "}}\n",
              "\n",
              "                        })                };                            </script>        </div>\n",
              "</body>\n",
              "</html>"
            ]
          },
          "metadata": {}
        }
      ]
    },
    {
      "cell_type": "markdown",
      "source": [
        "**Why so many empty values in production_countries**"
      ],
      "metadata": {
        "id": "jR-pjqW5Euvt"
      }
    },
    {
      "cell_type": "code",
      "source": [
        "# Check correlation of vote average with revenue\n",
        "df_filtered = df.filter((pl.col(\"vote_average\") > 0) & (pl.col(\"revenue\") > 0) & (pl.col(\"budget\") > 0) & (pl.col(\"vote_count\") > 100))\n",
        "correlation = df_filtered.select([\n",
        "    pl.col(\"vote_average\"),\n",
        "    pl.col(\"revenue\")/pl.col(\"budget\")\n",
        "]).corr()\n",
        "correlation\n"
      ],
      "metadata": {
        "colab": {
          "base_uri": "https://localhost:8080/",
          "height": 161
        },
        "id": "6yp174dIIa7V",
        "outputId": "8dc87fc7-8d25-40c6-9fdd-bf083da43915"
      },
      "execution_count": null,
      "outputs": [
        {
          "output_type": "execute_result",
          "data": {
            "text/plain": [
              "shape: (2, 2)\n",
              "┌──────────────────────┬──────────────────────┐\n",
              "│ vote_average         ┆ revenue              │\n",
              "│ ---                  ┆ ---                  │\n",
              "│ f64                  ┆ f64                  │\n",
              "╞══════════════════════╪══════════════════════╡\n",
              "│ 1                    ┆ 0.007109626401468662 │\n",
              "│ 0.007109626401468662 ┆ 1                    │\n",
              "└──────────────────────┴──────────────────────┘"
            ],
            "text/html": [
              "<div><style>\n",
              ".dataframe > thead > tr,\n",
              ".dataframe > tbody > tr {\n",
              "  text-align: right;\n",
              "  white-space: pre-wrap;\n",
              "}\n",
              "</style>\n",
              "<small>shape: (2, 2)</small><table border=\"1\" class=\"dataframe\"><thead><tr><th>vote_average</th><th>revenue</th></tr><tr><td>f64</td><td>f64</td></tr></thead><tbody><tr><td>1</td><td>0.007109626401468662</td></tr><tr><td>0.007109626401468662</td><td>1</td></tr></tbody></table></div>"
            ]
          },
          "metadata": {},
          "execution_count": 104
        }
      ]
    }
  ]
}